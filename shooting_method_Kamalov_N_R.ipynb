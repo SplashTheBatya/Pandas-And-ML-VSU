{
  "nbformat": 4,
  "nbformat_minor": 0,
  "metadata": {
    "colab": {
      "name": "shooting-method-Kamalov_N_R.ipynb",
      "provenance": [],
      "collapsed_sections": [],
      "authorship_tag": "ABX9TyMiWad53q5hVTLIDSgzHbr9",
      "include_colab_link": true
    },
    "kernelspec": {
      "name": "python3",
      "display_name": "Python 3"
    }
  },
  "cells": [
    {
      "cell_type": "markdown",
      "metadata": {
        "id": "view-in-github",
        "colab_type": "text"
      },
      "source": [
        "<a href=\"https://colab.research.google.com/github/SplashTheBatya/Pandas-And-ML-VSU/blob/main/shooting_method_Kamalov_N_R.ipynb\" target=\"_parent\"><img src=\"https://colab.research.google.com/assets/colab-badge.svg\" alt=\"Open In Colab\"/></a>"
      ]
    },
    {
      "cell_type": "markdown",
      "metadata": {
        "id": "MYze68S_zWXe"
      },
      "source": [
        "# 1.Постановка решаемой краевой задачи:\n",
        "\n",
        "Начальное условие:\n",
        "\\begin{equation}\n",
        "y'' + y = x, \\quad y(0) = 0  \\quad y(1) = 0 \\tag{1}\n",
        "\\end{equation}\n",
        "\n"
      ]
    },
    {
      "cell_type": "markdown",
      "metadata": {
        "id": "3fXn0L-E2nOD"
      },
      "source": [
        "# 2.Приведение краевой задачи к задаче Коши\n",
        "\n",
        "Приведение краевой задачи к задаче Коши:\n",
        "\n",
        "Сделаем замену:\n",
        "\\begin{equation} \n",
        "y'(x) = z(x)\n",
        "\\end{equation}\n",
        "\n",
        "Тогда кравевую задачу (1) можно предствить в виде:\n",
        "\\begin{equation}\n",
        "y' = z \\quad y(0) = 0\n",
        "\\end{equation}\n",
        "\\begin{equation}\n",
        "z' = x - y \\quad z(0) = y'(0) = \\eta\n",
        "\\end{equation}\n"
      ]
    },
    {
      "cell_type": "markdown",
      "metadata": {
        "id": "tf8jUBnp3Pml"
      },
      "source": [
        "Для метода Эйлера с пересчётом решение задачи Коши примет следующий вид:\n",
        "\n",
        "\\begin{equation}\n",
        "x_{i+1} = x_i + h, \\quad y_{i+1} = y_i + h z_i, \\quad z_{i+1} = z_i + \\frac{h}{2}[f(x_i, y_i, z_i) + f(x_{i+1},y_{i+1},z_{i+1})] \n",
        "\\end{equation}\n",
        "\\begin{equation}\n",
        "x_0 = 0, \\quad y_0 = 0, \\quad z_0 = \\eta \n",
        "\\end{equation}"
      ]
    },
    {
      "cell_type": "code",
      "metadata": {
        "id": "YWfMdhrDzN7z"
      },
      "source": [
        "import numpy as np\n",
        "\n",
        "\n",
        "a = 0\n",
        "b = 1\n",
        "A = 0\n",
        "B = 0\n",
        "\n",
        "\n",
        "def f(x, u):\n",
        "  return u[0] - x\n",
        "\n",
        "\n",
        "def F(f):\n",
        "  return lambda x, u: np.append(u[1:], f(x, u))\n",
        "\n",
        "\n",
        "def recount(f, a, b, u0, h):\n",
        "  func = F(f)\n",
        "\n",
        "  x = a\n",
        "  u = np.array(u0)\n",
        "  res = [(x, u[0])]\n",
        "  \n",
        "  while x + h <= b:\n",
        "    u = u + h / 2 * (func(x, u) + func(x + h, u + h * func(x, u)))\n",
        "    x = x + h\n",
        "    res.append((x, u[0]))\n",
        "  \n",
        "  return res"
      ],
      "execution_count": 8,
      "outputs": []
    },
    {
      "cell_type": "markdown",
      "metadata": {
        "id": "WbWDHZJ7Ijgt"
      },
      "source": [
        "При $\\eta = 0.1$ получим следующие решения задачи Коши:"
      ]
    },
    {
      "cell_type": "code",
      "metadata": {
        "id": "6-UV7pIPF7j_",
        "colab": {
          "base_uri": "https://localhost:8080/"
        },
        "outputId": "9380f44e-c5c9-4888-8b69-83778adf56c8"
      },
      "source": [
        "recount(f, a, b, [A, 1], 0.1)"
      ],
      "execution_count": 21,
      "outputs": [
        {
          "output_type": "execute_result",
          "data": {
            "text/plain": [
              "[(0, 0),\n",
              " (0.1, 0.1),\n",
              " (0.2, 0.2),\n",
              " (0.30000000000000004, 0.30000000000000004),\n",
              " (0.4, 0.4),\n",
              " (0.5, 0.5),\n",
              " (0.6, 0.6),\n",
              " (0.7, 0.7),\n",
              " (0.7999999999999999, 0.7999999999999999),\n",
              " (0.8999999999999999, 0.8999999999999999),\n",
              " (0.9999999999999999, 0.9999999999999999)]"
            ]
          },
          "metadata": {
            "tags": []
          },
          "execution_count": 21
        }
      ]
    },
    {
      "cell_type": "markdown",
      "metadata": {
        "id": "h0AOPc-ZJoP5"
      },
      "source": [
        "При данном значении $\\eta$ ошибка имеет следующее значение:"
      ]
    },
    {
      "cell_type": "code",
      "metadata": {
        "id": "41B8T3XeJFmc",
        "colab": {
          "base_uri": "https://localhost:8080/"
        },
        "outputId": "35749390-1355-4d03-b9c2-0cc11f266cd4"
      },
      "source": [
        "def err(actual, res):\n",
        "  return actual - res[-1][1] \n",
        "\n",
        "err(B, _)"
      ],
      "execution_count": 22,
      "outputs": [
        {
          "output_type": "execute_result",
          "data": {
            "text/plain": [
              "-0.9999999999999999"
            ]
          },
          "metadata": {
            "tags": []
          },
          "execution_count": 22
        }
      ]
    },
    {
      "cell_type": "markdown",
      "metadata": {
        "id": "kf37IwUFkmBp"
      },
      "source": [
        "Выберем $\\eta_1 = 0.5$,  $\\eta_2 = 1$"
      ]
    },
    {
      "cell_type": "code",
      "metadata": {
        "colab": {
          "base_uri": "https://localhost:8080/"
        },
        "id": "pkvU6-GlkPgJ",
        "outputId": "ad8845e6-b553-4ed9-aa96-c16b6eb973fc"
      },
      "source": [
        "eta_1 = 0.1\n",
        "eta_2 = 0.5\n",
        "\n",
        "print('eta_1 =', eta_1, '\\terr =', err(B, recount(f, a, b, [A, eta_1], 0.1)))\n",
        "print('eta_2 =', eta_2, '\\terr =', err(B, recount(f, a, b, [A, eta_2], 0.1)))"
      ],
      "execution_count": 39,
      "outputs": [
        {
          "output_type": "stream",
          "text": [
            "eta_1 = 0.1 \terr = 0.055492937798602704\n",
            "eta_2 = 0.5 \terr = -0.41361503455633186\n"
          ],
          "name": "stdout"
        }
      ]
    },
    {
      "cell_type": "markdown",
      "metadata": {
        "id": "1cQAbwclJ2mv"
      },
      "source": [
        ""
      ]
    },
    {
      "cell_type": "code",
      "metadata": {
        "id": "-gAHgqSBjVY3"
      },
      "source": [
        "def solve_chord(f, a, b, A, B, eta_1, eta_2, h=0.1, eps=1e-5):\n",
        "  eta = [eta_1, eta_2]\n",
        "  hist = [recount(f, a, b, [A, eta_1], h), recount(f, a, b, [A, eta_2], h)]\n",
        "  errors = [err(B, hist[0]), err(B, hist[1])]\n",
        "\n",
        "  while abs(eta[-2] - eta[-1]) > eps:\n",
        "    eta.append(eta[-1] - (eta[-1] - eta[-2]) * errors[-1] / (errors[-1] - errors[-2]))\n",
        "    hist.append(recount(f, a, b, [A, eta[-1]], h))\n",
        "    errors.append(err(B, hist[-1]))\n",
        "\n",
        "  return hist[-1], hist\n",
        "\n",
        "res, hist = solve_chord(f, a, b, A, B, eta_1, eta_2, h=0.01, eps=0.01)"
      ],
      "execution_count": 40,
      "outputs": []
    },
    {
      "cell_type": "code",
      "metadata": {
        "colab": {
          "base_uri": "https://localhost:8080/"
        },
        "id": "SoVAZle_lELe",
        "outputId": "30183391-5765-4be4-9ecb-c6eb505bb376"
      },
      "source": [
        "print('eta =', res[0])\n",
        "\n",
        "arr = np.array(res)\n",
        "print(arr[:, 0:2])"
      ],
      "execution_count": 41,
      "outputs": [
        {
          "output_type": "stream",
          "text": [
            "eta = (0, 0.0)\n",
            "[[0.00000000e+00 0.00000000e+00]\n",
            " [1.00000000e-02 1.46407324e-03]\n",
            " [2.00000000e-02 2.92729288e-03]\n",
            " [3.00000000e-02 4.38880528e-03]\n",
            " [4.00000000e-02 5.84775660e-03]\n",
            " [5.00000000e-02 7.30329276e-03]\n",
            " [6.00000000e-02 8.75455933e-03]\n",
            " [7.00000000e-02 1.02007015e-02]\n",
            " [8.00000000e-02 1.16408638e-02]\n",
            " [9.00000000e-02 1.30741904e-02]\n",
            " [1.00000000e-01 1.44998245e-02]\n",
            " [1.10000000e-01 1.59169089e-02]\n",
            " [1.20000000e-01 1.73245851e-02]\n",
            " [1.30000000e-01 1.87219940e-02]\n",
            " [1.40000000e-01 2.01082754e-02]\n",
            " [1.50000000e-01 2.14825679e-02]\n",
            " [1.60000000e-01 2.28440090e-02]\n",
            " [1.70000000e-01 2.41917347e-02]\n",
            " [1.80000000e-01 2.55248800e-02]\n",
            " [1.90000000e-01 2.68425782e-02]\n",
            " [2.00000000e-01 2.81439610e-02]\n",
            " [2.10000000e-01 2.94281586e-02]\n",
            " [2.20000000e-01 3.06942994e-02]\n",
            " [2.30000000e-01 3.19415101e-02]\n",
            " [2.40000000e-01 3.31689155e-02]\n",
            " [2.50000000e-01 3.43756382e-02]\n",
            " [2.60000000e-01 3.55607990e-02]\n",
            " [2.70000000e-01 3.67235164e-02]\n",
            " [2.80000000e-01 3.78629068e-02]\n",
            " [2.90000000e-01 3.89780840e-02]\n",
            " [3.00000000e-01 4.00681596e-02]\n",
            " [3.10000000e-01 4.11322427e-02]\n",
            " [3.20000000e-01 4.21694396e-02]\n",
            " [3.30000000e-01 4.31788542e-02]\n",
            " [3.40000000e-01 4.41595873e-02]\n",
            " [3.50000000e-01 4.51107371e-02]\n",
            " [3.60000000e-01 4.60313988e-02]\n",
            " [3.70000000e-01 4.69206643e-02]\n",
            " [3.80000000e-01 4.77776227e-02]\n",
            " [3.90000000e-01 4.86013596e-02]\n",
            " [4.00000000e-01 4.93909576e-02]\n",
            " [4.10000000e-01 5.01454954e-02]\n",
            " [4.20000000e-01 5.08640487e-02]\n",
            " [4.30000000e-01 5.15456893e-02]\n",
            " [4.40000000e-01 5.21894854e-02]\n",
            " [4.50000000e-01 5.27945014e-02]\n",
            " [4.60000000e-01 5.33597978e-02]\n",
            " [4.70000000e-01 5.38844312e-02]\n",
            " [4.80000000e-01 5.43674540e-02]\n",
            " [4.90000000e-01 5.48079147e-02]\n",
            " [5.00000000e-01 5.52048572e-02]\n",
            " [5.10000000e-01 5.55573212e-02]\n",
            " [5.20000000e-01 5.58643421e-02]\n",
            " [5.30000000e-01 5.61249506e-02]\n",
            " [5.40000000e-01 5.63381727e-02]\n",
            " [5.50000000e-01 5.65030298e-02]\n",
            " [5.60000000e-01 5.66185385e-02]\n",
            " [5.70000000e-01 5.66837102e-02]\n",
            " [5.80000000e-01 5.66975515e-02]\n",
            " [5.90000000e-01 5.66590639e-02]\n",
            " [6.00000000e-01 5.65672435e-02]\n",
            " [6.10000000e-01 5.64210812e-02]\n",
            " [6.20000000e-01 5.62195623e-02]\n",
            " [6.30000000e-01 5.59616668e-02]\n",
            " [6.40000000e-01 5.56463689e-02]\n",
            " [6.50000000e-01 5.52726370e-02]\n",
            " [6.60000000e-01 5.48394338e-02]\n",
            " [6.70000000e-01 5.43457161e-02]\n",
            " [6.80000000e-01 5.37904345e-02]\n",
            " [6.90000000e-01 5.31725334e-02]\n",
            " [7.00000000e-01 5.24909512e-02]\n",
            " [7.10000000e-01 5.17446196e-02]\n",
            " [7.20000000e-01 5.09324642e-02]\n",
            " [7.30000000e-01 5.00534036e-02]\n",
            " [7.40000000e-01 4.91063500e-02]\n",
            " [7.50000000e-01 4.80902088e-02]\n",
            " [7.60000000e-01 4.70038783e-02]\n",
            " [7.70000000e-01 4.58462500e-02]\n",
            " [7.80000000e-01 4.46162080e-02]\n",
            " [7.90000000e-01 4.33126295e-02]\n",
            " [8.00000000e-01 4.19343841e-02]\n",
            " [8.10000000e-01 4.04803340e-02]\n",
            " [8.20000000e-01 3.89493339e-02]\n",
            " [8.30000000e-01 3.73402306e-02]\n",
            " [8.40000000e-01 3.56518632e-02]\n",
            " [8.50000000e-01 3.38830631e-02]\n",
            " [8.60000000e-01 3.20326532e-02]\n",
            " [8.70000000e-01 3.00994487e-02]\n",
            " [8.80000000e-01 2.80822562e-02]\n",
            " [8.90000000e-01 2.59798740e-02]\n",
            " [9.00000000e-01 2.37910919e-02]\n",
            " [9.10000000e-01 2.15146911e-02]\n",
            " [9.20000000e-01 1.91494439e-02]\n",
            " [9.30000000e-01 1.66941139e-02]\n",
            " [9.40000000e-01 1.41474556e-02]\n",
            " [9.50000000e-01 1.15082143e-02]\n",
            " [9.60000000e-01 8.77512613e-03]\n",
            " [9.70000000e-01 5.94691782e-03]\n",
            " [9.80000000e-01 3.02230659e-03]\n",
            " [9.90000000e-01 3.20923843e-17]]\n"
          ],
          "name": "stdout"
        }
      ]
    },
    {
      "cell_type": "code",
      "metadata": {
        "colab": {
          "base_uri": "https://localhost:8080/",
          "height": 568
        },
        "id": "W0uU2PL1mCrQ",
        "outputId": "b13a5ee9-54a2-4c6b-8600-b902d2049cdd"
      },
      "source": [
        "import matplotlib.pyplot as plt\n",
        "\n",
        "plt.rcParams[\"figure.figsize\"] = (20, 15)\n",
        "\n",
        "fig, ax = plt.subplots()\n",
        "\n",
        "arr = np.array(res)\n",
        "x = arr[:, 0]\n",
        "y = arr[:, 1]\n",
        "line = ax.plot(x, y, label='result', linewidth=3, color='black')\n",
        "\n",
        "for r in hist[:-2]:\n",
        "  arr = np.array(r)\n",
        "  x = arr[:, 0]\n",
        "  y = arr[:, 1]\n",
        "  line = ax.plot(x, y)\n",
        "\n",
        "ax.legend()\n",
        "plt.show()"
      ],
      "execution_count": 42,
      "outputs": [
        {
          "output_type": "display_data",
          "data": {
            "image/png": "[encoded data removed]",
            "text/plain": [
              "<Figure size 1440x1080 with 1 Axes>"
            ]
          },
          "metadata": {
            "tags": [],
            "needs_background": "light"
          }
        }
      ]
    }
  ]
}